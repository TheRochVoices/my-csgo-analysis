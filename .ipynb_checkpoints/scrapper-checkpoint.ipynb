{
 "cells": [
  {
   "cell_type": "code",
   "execution_count": 58,
   "metadata": {},
   "outputs": [],
   "source": [
    "from bs4 import BeautifulSoup\n",
    "import re\n",
    "import pandas as pd\n",
    "import numpy as np"
   ]
  },
  {
   "cell_type": "code",
   "execution_count": 2,
   "metadata": {},
   "outputs": [],
   "source": [
    "#file=codecs.open('csgo_data/https:_steamcommunity.com_id_therochvoices_gcpd_730_?tab=matchhistorycompetitive.html', 'r')"
   ]
  },
  {
   "cell_type": "code",
   "execution_count": 2,
   "metadata": {},
   "outputs": [],
   "source": [
    "url = r\"/home/therochvoices/Documents/csgo data scraper/csgo_data/Steam Community :: Counter-Strike: Global Offensive :: Personal Game Data.html\""
   ]
  },
  {
   "cell_type": "code",
   "execution_count": 3,
   "metadata": {},
   "outputs": [],
   "source": [
    "page = open(url)\n",
    "soup = BeautifulSoup(page.read(), \"lxml\")"
   ]
  },
  {
   "cell_type": "code",
   "execution_count": 4,
   "metadata": {},
   "outputs": [],
   "source": [
    "all_matches = soup.find_all(class_=\"csgo_scoreboard_inner_right\")"
   ]
  },
  {
   "cell_type": "code",
   "execution_count": 5,
   "metadata": {},
   "outputs": [],
   "source": [
    "match1 = all_matches[1].find_all('tr')"
   ]
  },
  {
   "cell_type": "code",
   "execution_count": 6,
   "metadata": {},
   "outputs": [
    {
     "data": {
      "text/plain": [
       "<tr>\n",
       "<td class=\"inner_name\"> <div class=\"playerAvatar offline\"><a href=\"https://steamcommunity.com/profiles/76561198157811585\"><img alt=\"\" data-miniprofile=\"197545857\" src=\"Steam%20Community%20::%20Counter-Strike:%20Global%20Offensive%20::%20Personal%20Game%20Data_files/d942d0a787c1fb76a90d0dc2732129171de99bf5.jpg\"/></a></div>\n",
       "<div class=\"playerNickname ellipsis\"><a class=\"linkTitle\" data-miniprofile=\"197545857\" href=\"https://steamcommunity.com/profiles/76561198157811585\">Smaug™</a></div>\n",
       "</td>\n",
       "<td>66</td>\n",
       "<td>31</td>\n",
       "<td>3</td>\n",
       "<td>11</td>\n",
       "<td>★6</td>\n",
       "<td>25%</td>\n",
       "<td>74</td>\n",
       "</tr>"
      ]
     },
     "execution_count": 6,
     "metadata": {},
     "output_type": "execute_result"
    }
   ],
   "source": [
    "match1[1]"
   ]
  },
  {
   "cell_type": "code",
   "execution_count": 7,
   "metadata": {},
   "outputs": [],
   "source": [
    "kills = match1[1].find_all('td')"
   ]
  },
  {
   "cell_type": "code",
   "execution_count": 8,
   "metadata": {},
   "outputs": [
    {
     "data": {
      "text/plain": [
       "2"
      ]
     },
     "execution_count": 8,
     "metadata": {},
     "output_type": "execute_result"
    }
   ],
   "source": [
    "kills[0].get_text().find(\"Smaug\")"
   ]
  },
  {
   "cell_type": "code",
   "execution_count": 9,
   "metadata": {},
   "outputs": [
    {
     "data": {
      "text/plain": [
       "'★6'"
      ]
     },
     "execution_count": 9,
     "metadata": {},
     "output_type": "execute_result"
    }
   ],
   "source": [
    "kills[5].get_text()"
   ]
  },
  {
   "cell_type": "code",
   "execution_count": 12,
   "metadata": {},
   "outputs": [],
   "source": [
    "data = []\n",
    "toburn = []\n",
    "\n",
    "count = 0\n",
    "for i in all_matches:\n",
    "    matches = i.find_all('tr')\n",
    "    for j in matches:\n",
    "        stats = j.find_all('td')\n",
    "        data = []\n",
    "        for k in stats:\n",
    "            data.append(k.get_text())\n",
    "            \n",
    "        if(len(data) == 8):\n",
    "            toburn.append(data)\n",
    "\n",
    "df = pd.DataFrame(toburn, columns=[\"Name\", \"Ping\", \"Kills\", \"Assist\", \"Death\", \"Mvp\", \"HSPR\", \"Pt\"])"
   ]
  },
  {
   "cell_type": "code",
   "execution_count": 13,
   "metadata": {},
   "outputs": [],
   "source": [
    "df['Name'] = df.Name.str.replace('\\n', '')"
   ]
  },
  {
   "cell_type": "code",
   "execution_count": 14,
   "metadata": {},
   "outputs": [],
   "source": [
    "df.to_csv('matchmaking.csv')"
   ]
  },
  {
   "cell_type": "code",
   "execution_count": null,
   "metadata": {},
   "outputs": [],
   "source": []
  },
  {
   "cell_type": "code",
   "execution_count": null,
   "metadata": {},
   "outputs": [],
   "source": []
  },
  {
   "cell_type": "code",
   "execution_count": 2,
   "metadata": {},
   "outputs": [],
   "source": [
    "df = pd.read_csv('matchmaking.csv')"
   ]
  },
  {
   "cell_type": "code",
   "execution_count": 3,
   "metadata": {},
   "outputs": [],
   "source": [
    "df = df.iloc[::-1]"
   ]
  },
  {
   "cell_type": "code",
   "execution_count": 4,
   "metadata": {},
   "outputs": [
    {
     "data": {
      "text/html": [
       "<div>\n",
       "<style scoped>\n",
       "    .dataframe tbody tr th:only-of-type {\n",
       "        vertical-align: middle;\n",
       "    }\n",
       "\n",
       "    .dataframe tbody tr th {\n",
       "        vertical-align: top;\n",
       "    }\n",
       "\n",
       "    .dataframe thead th {\n",
       "        text-align: right;\n",
       "    }\n",
       "</style>\n",
       "<table border=\"1\" class=\"dataframe\">\n",
       "  <thead>\n",
       "    <tr style=\"text-align: right;\">\n",
       "      <th></th>\n",
       "      <th>Unnamed: 0</th>\n",
       "      <th>Name</th>\n",
       "      <th>Ping</th>\n",
       "      <th>Kills</th>\n",
       "      <th>Assist</th>\n",
       "      <th>Death</th>\n",
       "      <th>Mvp</th>\n",
       "      <th>HSPR</th>\n",
       "      <th>Pt</th>\n",
       "    </tr>\n",
       "  </thead>\n",
       "  <tbody>\n",
       "    <tr>\n",
       "      <th>2539</th>\n",
       "      <td>2539</td>\n",
       "      <td>H A C K E R . C F G ╰_╯</td>\n",
       "      <td>99</td>\n",
       "      <td>5</td>\n",
       "      <td>5</td>\n",
       "      <td>16</td>\n",
       "      <td></td>\n",
       "      <td>20%</td>\n",
       "      <td>15</td>\n",
       "    </tr>\n",
       "    <tr>\n",
       "      <th>2538</th>\n",
       "      <td>2538</td>\n",
       "      <td>☜☆☞DEADSHOT☜☆☞</td>\n",
       "      <td>42</td>\n",
       "      <td>16</td>\n",
       "      <td>4</td>\n",
       "      <td>11</td>\n",
       "      <td>★3</td>\n",
       "      <td>31%</td>\n",
       "      <td>42</td>\n",
       "    </tr>\n",
       "    <tr>\n",
       "      <th>2537</th>\n",
       "      <td>2537</td>\n",
       "      <td>Meteor</td>\n",
       "      <td>44</td>\n",
       "      <td>22</td>\n",
       "      <td>4</td>\n",
       "      <td>19</td>\n",
       "      <td>★3</td>\n",
       "      <td>18%</td>\n",
       "      <td>48</td>\n",
       "    </tr>\n",
       "    <tr>\n",
       "      <th>2536</th>\n",
       "      <td>2536</td>\n",
       "      <td>SNORK</td>\n",
       "      <td>7</td>\n",
       "      <td>26</td>\n",
       "      <td>3</td>\n",
       "      <td>17</td>\n",
       "      <td>★4</td>\n",
       "      <td>30%</td>\n",
       "      <td>55</td>\n",
       "    </tr>\n",
       "    <tr>\n",
       "      <th>2535</th>\n",
       "      <td>2535</td>\n",
       "      <td>V1v3k</td>\n",
       "      <td>25</td>\n",
       "      <td>27</td>\n",
       "      <td>3</td>\n",
       "      <td>18</td>\n",
       "      <td>★6</td>\n",
       "      <td>55%</td>\n",
       "      <td>64</td>\n",
       "    </tr>\n",
       "  </tbody>\n",
       "</table>\n",
       "</div>"
      ],
      "text/plain": [
       "      Unnamed: 0                      Name  Ping  Kills  Assist  Death Mvp  \\\n",
       "2539        2539   H A C K E R . C F G ╰_╯    99      5       5     16       \n",
       "2538        2538            ☜☆☞DEADSHOT☜☆☞    42     16       4     11  ★3   \n",
       "2537        2537                    Meteor    44     22       4     19  ★3   \n",
       "2536        2536                     SNORK     7     26       3     17  ★4   \n",
       "2535        2535                     V1v3k    25     27       3     18  ★6   \n",
       "\n",
       "     HSPR  Pt  \n",
       "2539  20%  15  \n",
       "2538  31%  42  \n",
       "2537  18%  48  \n",
       "2536  30%  55  \n",
       "2535  55%  64  "
      ]
     },
     "execution_count": 4,
     "metadata": {},
     "output_type": "execute_result"
    }
   ],
   "source": [
    "df.head()"
   ]
  },
  {
   "cell_type": "code",
   "execution_count": 5,
   "metadata": {},
   "outputs": [],
   "source": [
    "df['KD'] = df['Kills']/df['Death']"
   ]
  },
  {
   "cell_type": "code",
   "execution_count": 6,
   "metadata": {},
   "outputs": [],
   "source": [
    "from pylab import rcParams\n",
    "rcParams['figure.figsize'] = 10, 4"
   ]
  },
  {
   "cell_type": "code",
   "execution_count": 7,
   "metadata": {},
   "outputs": [
    {
     "data": {
      "text/plain": [
       "(2540, 10)"
      ]
     },
     "execution_count": 7,
     "metadata": {},
     "output_type": "execute_result"
    }
   ],
   "source": [
    "df.shape"
   ]
  },
  {
   "cell_type": "code",
   "execution_count": 8,
   "metadata": {},
   "outputs": [
    {
     "data": {
      "text/plain": [
       "Unnamed: 0             2529\n",
       "Name           Prodigal Dad\n",
       "Ping                     56\n",
       "Kills                     1\n",
       "Assist                    1\n",
       "Death                    16\n",
       "Mvp                        \n",
       "HSPR                       \n",
       "Pt                        7\n",
       "KD                   0.0625\n",
       "Name: 2529, dtype: object"
      ]
     },
     "execution_count": 8,
     "metadata": {},
     "output_type": "execute_result"
    }
   ],
   "source": [
    "df.iloc[10]"
   ]
  },
  {
   "cell_type": "code",
   "execution_count": 120,
   "metadata": {},
   "outputs": [],
   "source": [
    "def extractProdigal(valve):\n",
    "    isAce = 0\n",
    "    isMad = 0\n",
    "    toAppend = []\n",
    "    prodi = 0\n",
    "    for i in valve:\n",
    "        if(i[1] == ' Mad Titan'):\n",
    "            isMad = 1\n",
    "        if(i[1] == ' Ace'):\n",
    "            isAce = 1\n",
    "        if(i[1] == ' Prodigal Dad'):\n",
    "            prodi = i\n",
    "    prodi = np.append(prodi, isMad)\n",
    "    prodi = np.append(prodi, isAce)\n",
    "    return prodi"
   ]
  },
  {
   "cell_type": "code",
   "execution_count": 121,
   "metadata": {},
   "outputs": [],
   "source": [
    "valve = []\n",
    "finalList = []\n",
    "for i in range(0, df.shape[0]):\n",
    "    if(i%10 == 0 and i!=0):\n",
    "        finalList.append(extractProdigal(valve))\n",
    "        valve = []\n",
    "    else:\n",
    "        valve.append(df.iloc[i].values)\n",
    "    #if(i%10==0 and i!=0):\n",
    "    \n",
    "        "
   ]
  },
  {
   "cell_type": "code",
   "execution_count": 123,
   "metadata": {},
   "outputs": [],
   "source": [
    "prodigal = pd.DataFrame(data = finalList, columns=['temp', 'Name', 'Ping', 'Kills', 'Assist',\n",
    "                                                  'Deaths', 'Mvp', 'HSPR', 'Pts', 'KD', 'isMad', 'isAce'])"
   ]
  },
  {
   "cell_type": "code",
   "execution_count": 128,
   "metadata": {},
   "outputs": [
    {
     "data": {
      "text/html": [
       "<div>\n",
       "<style scoped>\n",
       "    .dataframe tbody tr th:only-of-type {\n",
       "        vertical-align: middle;\n",
       "    }\n",
       "\n",
       "    .dataframe tbody tr th {\n",
       "        vertical-align: top;\n",
       "    }\n",
       "\n",
       "    .dataframe thead th {\n",
       "        text-align: right;\n",
       "    }\n",
       "</style>\n",
       "<table border=\"1\" class=\"dataframe\">\n",
       "  <thead>\n",
       "    <tr style=\"text-align: right;\">\n",
       "      <th></th>\n",
       "      <th>temp</th>\n",
       "      <th>Name</th>\n",
       "      <th>Ping</th>\n",
       "      <th>Kills</th>\n",
       "      <th>Assist</th>\n",
       "      <th>Deaths</th>\n",
       "      <th>Mvp</th>\n",
       "      <th>HSPR</th>\n",
       "      <th>Pts</th>\n",
       "      <th>KD</th>\n",
       "      <th>isMad</th>\n",
       "      <th>isAce</th>\n",
       "    </tr>\n",
       "  </thead>\n",
       "  <tbody>\n",
       "    <tr>\n",
       "      <th>117</th>\n",
       "      <td>1362</td>\n",
       "      <td>Prodigal Dad</td>\n",
       "      <td>54</td>\n",
       "      <td>19.0</td>\n",
       "      <td>6.0</td>\n",
       "      <td>16.0</td>\n",
       "      <td>★4</td>\n",
       "      <td>31%</td>\n",
       "      <td>47.0</td>\n",
       "      <td>1.187500</td>\n",
       "      <td>1.0</td>\n",
       "      <td>1.0</td>\n",
       "    </tr>\n",
       "    <tr>\n",
       "      <th>241</th>\n",
       "      <td>124</td>\n",
       "      <td>Prodigal Dad</td>\n",
       "      <td>75</td>\n",
       "      <td>15.0</td>\n",
       "      <td>5.0</td>\n",
       "      <td>20.0</td>\n",
       "      <td>★3</td>\n",
       "      <td>26%</td>\n",
       "      <td>42.0</td>\n",
       "      <td>0.750000</td>\n",
       "      <td>0.0</td>\n",
       "      <td>0.0</td>\n",
       "    </tr>\n",
       "    <tr>\n",
       "      <th>213</th>\n",
       "      <td>402</td>\n",
       "      <td>Prodigal Dad</td>\n",
       "      <td>61</td>\n",
       "      <td>17.0</td>\n",
       "      <td>8.0</td>\n",
       "      <td>22.0</td>\n",
       "      <td>★2</td>\n",
       "      <td>41%</td>\n",
       "      <td>48.0</td>\n",
       "      <td>0.772727</td>\n",
       "      <td>0.0</td>\n",
       "      <td>0.0</td>\n",
       "    </tr>\n",
       "    <tr>\n",
       "      <th>38</th>\n",
       "      <td>2157</td>\n",
       "      <td>Prodigal Dad</td>\n",
       "      <td>60</td>\n",
       "      <td>16.0</td>\n",
       "      <td>3.0</td>\n",
       "      <td>6.0</td>\n",
       "      <td>★3</td>\n",
       "      <td>25%</td>\n",
       "      <td>54.0</td>\n",
       "      <td>2.666667</td>\n",
       "      <td>0.0</td>\n",
       "      <td>0.0</td>\n",
       "    </tr>\n",
       "    <tr>\n",
       "      <th>226</th>\n",
       "      <td>271</td>\n",
       "      <td>Prodigal Dad</td>\n",
       "      <td>59</td>\n",
       "      <td>24.0</td>\n",
       "      <td>8.0</td>\n",
       "      <td>24.0</td>\n",
       "      <td>★4</td>\n",
       "      <td>41%</td>\n",
       "      <td>68.0</td>\n",
       "      <td>1.000000</td>\n",
       "      <td>1.0</td>\n",
       "      <td>0.0</td>\n",
       "    </tr>\n",
       "    <tr>\n",
       "      <th>75</th>\n",
       "      <td>1787</td>\n",
       "      <td>Prodigal Dad</td>\n",
       "      <td>65</td>\n",
       "      <td>9.0</td>\n",
       "      <td>3.0</td>\n",
       "      <td>22.0</td>\n",
       "      <td>★</td>\n",
       "      <td>22%</td>\n",
       "      <td>35.0</td>\n",
       "      <td>0.409091</td>\n",
       "      <td>0.0</td>\n",
       "      <td>0.0</td>\n",
       "    </tr>\n",
       "    <tr>\n",
       "      <th>119</th>\n",
       "      <td>0</td>\n",
       "      <td>1</td>\n",
       "      <td>0</td>\n",
       "      <td>NaN</td>\n",
       "      <td>NaN</td>\n",
       "      <td>NaN</td>\n",
       "      <td>None</td>\n",
       "      <td>None</td>\n",
       "      <td>NaN</td>\n",
       "      <td>NaN</td>\n",
       "      <td>NaN</td>\n",
       "      <td>NaN</td>\n",
       "    </tr>\n",
       "    <tr>\n",
       "      <th>183</th>\n",
       "      <td>707</td>\n",
       "      <td>Prodigal Dad</td>\n",
       "      <td>75</td>\n",
       "      <td>15.0</td>\n",
       "      <td>2.0</td>\n",
       "      <td>22.0</td>\n",
       "      <td>★3</td>\n",
       "      <td>26%</td>\n",
       "      <td>37.0</td>\n",
       "      <td>0.681818</td>\n",
       "      <td>1.0</td>\n",
       "      <td>0.0</td>\n",
       "    </tr>\n",
       "    <tr>\n",
       "      <th>149</th>\n",
       "      <td>1045</td>\n",
       "      <td>Prodigal Dad</td>\n",
       "      <td>37</td>\n",
       "      <td>24.0</td>\n",
       "      <td>2.0</td>\n",
       "      <td>19.0</td>\n",
       "      <td>★3</td>\n",
       "      <td>45%</td>\n",
       "      <td>59.0</td>\n",
       "      <td>1.263158</td>\n",
       "      <td>0.0</td>\n",
       "      <td>0.0</td>\n",
       "    </tr>\n",
       "    <tr>\n",
       "      <th>215</th>\n",
       "      <td>382</td>\n",
       "      <td>Prodigal Dad</td>\n",
       "      <td>134</td>\n",
       "      <td>23.0</td>\n",
       "      <td>1.0</td>\n",
       "      <td>18.0</td>\n",
       "      <td>★3</td>\n",
       "      <td>17%</td>\n",
       "      <td>49.0</td>\n",
       "      <td>1.277778</td>\n",
       "      <td>1.0</td>\n",
       "      <td>1.0</td>\n",
       "    </tr>\n",
       "  </tbody>\n",
       "</table>\n",
       "</div>"
      ],
      "text/plain": [
       "     temp           Name  Ping  Kills  Assist  Deaths   Mvp  HSPR   Pts  \\\n",
       "117  1362   Prodigal Dad    54   19.0     6.0    16.0    ★4   31%  47.0   \n",
       "241   124   Prodigal Dad    75   15.0     5.0    20.0    ★3   26%  42.0   \n",
       "213   402   Prodigal Dad    61   17.0     8.0    22.0    ★2   41%  48.0   \n",
       "38   2157   Prodigal Dad    60   16.0     3.0     6.0    ★3   25%  54.0   \n",
       "226   271   Prodigal Dad    59   24.0     8.0    24.0    ★4   41%  68.0   \n",
       "75   1787   Prodigal Dad    65    9.0     3.0    22.0     ★   22%  35.0   \n",
       "119     0              1     0    NaN     NaN     NaN  None  None   NaN   \n",
       "183   707   Prodigal Dad    75   15.0     2.0    22.0    ★3   26%  37.0   \n",
       "149  1045   Prodigal Dad    37   24.0     2.0    19.0    ★3   45%  59.0   \n",
       "215   382   Prodigal Dad   134   23.0     1.0    18.0    ★3   17%  49.0   \n",
       "\n",
       "           KD  isMad  isAce  \n",
       "117  1.187500    1.0    1.0  \n",
       "241  0.750000    0.0    0.0  \n",
       "213  0.772727    0.0    0.0  \n",
       "38   2.666667    0.0    0.0  \n",
       "226  1.000000    1.0    0.0  \n",
       "75   0.409091    0.0    0.0  \n",
       "119       NaN    NaN    NaN  \n",
       "183  0.681818    1.0    0.0  \n",
       "149  1.263158    0.0    0.0  \n",
       "215  1.277778    1.0    1.0  "
      ]
     },
     "execution_count": 128,
     "metadata": {},
     "output_type": "execute_result"
    }
   ],
   "source": [
    "prodigal.sample(10)"
   ]
  },
  {
   "cell_type": "code",
   "execution_count": null,
   "metadata": {},
   "outputs": [],
   "source": []
  },
  {
   "cell_type": "code",
   "execution_count": null,
   "metadata": {},
   "outputs": [],
   "source": []
  }
 ],
 "metadata": {
  "kernelspec": {
   "display_name": "Python 3",
   "language": "python",
   "name": "python3"
  },
  "language_info": {
   "codemirror_mode": {
    "name": "ipython",
    "version": 3
   },
   "file_extension": ".py",
   "mimetype": "text/x-python",
   "name": "python",
   "nbconvert_exporter": "python",
   "pygments_lexer": "ipython3",
   "version": "3.6.4"
  }
 },
 "nbformat": 4,
 "nbformat_minor": 2
}
